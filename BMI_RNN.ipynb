{
 "cells": [
  {
   "cell_type": "code",
   "execution_count": 1,
   "metadata": {
    "execution": {
     "iopub.execute_input": "2024-09-18T05:43:07.406818Z",
     "iopub.status.busy": "2024-09-18T05:43:07.406489Z",
     "iopub.status.idle": "2024-09-18T05:43:07.834788Z",
     "shell.execute_reply": "2024-09-18T05:43:07.833655Z",
     "shell.execute_reply.started": "2024-09-18T05:43:07.406785Z"
    },
    "trusted": true
   },
   "outputs": [
    {
     "data": {
      "text/html": [
       "<div>\n",
       "<style scoped>\n",
       "    .dataframe tbody tr th:only-of-type {\n",
       "        vertical-align: middle;\n",
       "    }\n",
       "\n",
       "    .dataframe tbody tr th {\n",
       "        vertical-align: top;\n",
       "    }\n",
       "\n",
       "    .dataframe thead th {\n",
       "        text-align: right;\n",
       "    }\n",
       "</style>\n",
       "<table border=\"1\" class=\"dataframe\">\n",
       "  <thead>\n",
       "    <tr style=\"text-align: right;\">\n",
       "      <th></th>\n",
       "      <th>Weight</th>\n",
       "      <th>Height</th>\n",
       "      <th>BMI</th>\n",
       "      <th>Body Fat Percentage</th>\n",
       "      <th>BFPcase</th>\n",
       "      <th>Gender</th>\n",
       "      <th>Age</th>\n",
       "      <th>BMIcase</th>\n",
       "      <th>Exercise Recommendation Plan</th>\n",
       "    </tr>\n",
       "  </thead>\n",
       "  <tbody>\n",
       "    <tr>\n",
       "      <th>0</th>\n",
       "      <td>76.811975</td>\n",
       "      <td>1.820521</td>\n",
       "      <td>23.175956</td>\n",
       "      <td>18.281148</td>\n",
       "      <td>Acceptable</td>\n",
       "      <td>Male</td>\n",
       "      <td>29</td>\n",
       "      <td>normal</td>\n",
       "      <td>4</td>\n",
       "    </tr>\n",
       "    <tr>\n",
       "      <th>1</th>\n",
       "      <td>77.721154</td>\n",
       "      <td>1.945498</td>\n",
       "      <td>20.534184</td>\n",
       "      <td>13.731021</td>\n",
       "      <td>Fitness</td>\n",
       "      <td>Male</td>\n",
       "      <td>23</td>\n",
       "      <td>normal</td>\n",
       "      <td>4</td>\n",
       "    </tr>\n",
       "    <tr>\n",
       "      <th>2</th>\n",
       "      <td>87.558726</td>\n",
       "      <td>1.742754</td>\n",
       "      <td>28.828859</td>\n",
       "      <td>42.304631</td>\n",
       "      <td>Obese</td>\n",
       "      <td>Female</td>\n",
       "      <td>57</td>\n",
       "      <td>over weight</td>\n",
       "      <td>5</td>\n",
       "    </tr>\n",
       "    <tr>\n",
       "      <th>3</th>\n",
       "      <td>89.473356</td>\n",
       "      <td>1.758318</td>\n",
       "      <td>28.940017</td>\n",
       "      <td>27.958021</td>\n",
       "      <td>Obese</td>\n",
       "      <td>Male</td>\n",
       "      <td>41</td>\n",
       "      <td>over weight</td>\n",
       "      <td>5</td>\n",
       "    </tr>\n",
       "    <tr>\n",
       "      <th>4</th>\n",
       "      <td>69.963943</td>\n",
       "      <td>1.722570</td>\n",
       "      <td>23.578732</td>\n",
       "      <td>16.464478</td>\n",
       "      <td>Fitness</td>\n",
       "      <td>Male</td>\n",
       "      <td>19</td>\n",
       "      <td>normal</td>\n",
       "      <td>4</td>\n",
       "    </tr>\n",
       "  </tbody>\n",
       "</table>\n",
       "</div>"
      ],
      "text/plain": [
       "      Weight    Height        BMI  Body Fat Percentage     BFPcase  Gender  \\\n",
       "0  76.811975  1.820521  23.175956            18.281148  Acceptable    Male   \n",
       "1  77.721154  1.945498  20.534184            13.731021     Fitness    Male   \n",
       "2  87.558726  1.742754  28.828859            42.304631       Obese  Female   \n",
       "3  89.473356  1.758318  28.940017            27.958021       Obese    Male   \n",
       "4  69.963943  1.722570  23.578732            16.464478     Fitness    Male   \n",
       "\n",
       "   Age      BMIcase  Exercise Recommendation Plan  \n",
       "0   29       normal                             4  \n",
       "1   23       normal                             4  \n",
       "2   57  over weight                             5  \n",
       "3   41  over weight                             5  \n",
       "4   19       normal                             4  "
      ]
     },
     "execution_count": 1,
     "metadata": {},
     "output_type": "execute_result"
    }
   ],
   "source": [
    "import pandas as pd\n",
    "import numpy as np\n",
    "df = pd.read_csv('final_dataset_BFP .csv')\n",
    "df.head()\n"
   ]
  },
  {
   "cell_type": "code",
   "execution_count": 2,
   "metadata": {
    "execution": {
     "iopub.execute_input": "2024-09-18T05:43:07.837153Z",
     "iopub.status.busy": "2024-09-18T05:43:07.836745Z",
     "iopub.status.idle": "2024-09-18T05:43:07.849765Z",
     "shell.execute_reply": "2024-09-18T05:43:07.848839Z",
     "shell.execute_reply.started": "2024-09-18T05:43:07.837067Z"
    },
    "trusted": true
   },
   "outputs": [
    {
     "name": "stdout",
     "output_type": "stream",
     "text": [
      "0            normal\n",
      "1            normal\n",
      "2       over weight\n",
      "3       over weight\n",
      "4            normal\n",
      "           ...     \n",
      "4995         normal\n",
      "4996    over weight\n",
      "4997    over weight\n",
      "4998    over weight\n",
      "4999    over weight\n",
      "Name: BMIcase, Length: 5000, dtype: object\n"
     ]
    },
    {
     "name": "stderr",
     "output_type": "stream",
     "text": [
      "C:\\Users\\hetam\\AppData\\Local\\Temp\\ipykernel_11432\\3966576161.py:1: FutureWarning: A value is trying to be set on a copy of a DataFrame or Series through chained assignment using an inplace method.\n",
      "The behavior will change in pandas 3.0. This inplace method will never work because the intermediate object on which we are setting values always behaves as a copy.\n",
      "\n",
      "For example, when doing 'df[col].method(value, inplace=True)', try using 'df.method({col: value}, inplace=True)' or df[col] = df[col].method(value) instead, to perform the operation inplace on the original object.\n",
      "\n",
      "\n",
      "  df['BFPcase'].replace([ 'Obese','Acceptable','Fitness','Athletes'],[0,1,2,3],inplace=True)\n",
      "C:\\Users\\hetam\\AppData\\Local\\Temp\\ipykernel_11432\\3966576161.py:1: FutureWarning: Downcasting behavior in `replace` is deprecated and will be removed in a future version. To retain the old behavior, explicitly call `result.infer_objects(copy=False)`. To opt-in to the future behavior, set `pd.set_option('future.no_silent_downcasting', True)`\n",
      "  df['BFPcase'].replace([ 'Obese','Acceptable','Fitness','Athletes'],[0,1,2,3],inplace=True)\n"
     ]
    }
   ],
   "source": [
    "df['BFPcase'].replace([ 'Obese','Acceptable','Fitness','Athletes'],[0,1,2,3],inplace=True)\n",
    "print(df['BMIcase'])"
   ]
  },
  {
   "cell_type": "code",
   "execution_count": 3,
   "metadata": {
    "execution": {
     "iopub.execute_input": "2024-09-18T05:43:07.851451Z",
     "iopub.status.busy": "2024-09-18T05:43:07.851074Z",
     "iopub.status.idle": "2024-09-18T05:43:07.866303Z",
     "shell.execute_reply": "2024-09-18T05:43:07.865366Z",
     "shell.execute_reply.started": "2024-09-18T05:43:07.851406Z"
    },
    "trusted": true
   },
   "outputs": [
    {
     "name": "stdout",
     "output_type": "stream",
     "text": [
      "0       3\n",
      "1       3\n",
      "2       4\n",
      "3       4\n",
      "4       3\n",
      "       ..\n",
      "4995    3\n",
      "4996    4\n",
      "4997    4\n",
      "4998    4\n",
      "4999    4\n",
      "Name: BMIcase, Length: 5000, dtype: int64\n"
     ]
    },
    {
     "name": "stderr",
     "output_type": "stream",
     "text": [
      "C:\\Users\\hetam\\AppData\\Local\\Temp\\ipykernel_11432\\4261180309.py:1: FutureWarning: A value is trying to be set on a copy of a DataFrame or Series through chained assignment using an inplace method.\n",
      "The behavior will change in pandas 3.0. This inplace method will never work because the intermediate object on which we are setting values always behaves as a copy.\n",
      "\n",
      "For example, when doing 'df[col].method(value, inplace=True)', try using 'df.method({col: value}, inplace=True)' or df[col] = df[col].method(value) instead, to perform the operation inplace on the original object.\n",
      "\n",
      "\n",
      "  df['BMIcase'].replace([ 'sever thinness','mild thinness','moderate thinness','normal','over weight','obese','severe obese'],[0,1,2,3,4,5,6],inplace=True)\n",
      "C:\\Users\\hetam\\AppData\\Local\\Temp\\ipykernel_11432\\4261180309.py:1: FutureWarning: Downcasting behavior in `replace` is deprecated and will be removed in a future version. To retain the old behavior, explicitly call `result.infer_objects(copy=False)`. To opt-in to the future behavior, set `pd.set_option('future.no_silent_downcasting', True)`\n",
      "  df['BMIcase'].replace([ 'sever thinness','mild thinness','moderate thinness','normal','over weight','obese','severe obese'],[0,1,2,3,4,5,6],inplace=True)\n"
     ]
    }
   ],
   "source": [
    "df['BMIcase'].replace([ 'sever thinness','mild thinness','moderate thinness','normal','over weight','obese','severe obese'],[0,1,2,3,4,5,6],inplace=True)\n",
    "print(df['BMIcase'])"
   ]
  },
  {
   "cell_type": "code",
   "execution_count": 4,
   "metadata": {
    "execution": {
     "iopub.execute_input": "2024-09-18T05:43:07.867617Z",
     "iopub.status.busy": "2024-09-18T05:43:07.867345Z",
     "iopub.status.idle": "2024-09-18T05:43:07.878145Z",
     "shell.execute_reply": "2024-09-18T05:43:07.877343Z",
     "shell.execute_reply.started": "2024-09-18T05:43:07.867586Z"
    },
    "trusted": true
   },
   "outputs": [
    {
     "name": "stdout",
     "output_type": "stream",
     "text": [
      "0       1\n",
      "1       1\n",
      "2       0\n",
      "3       1\n",
      "4       1\n",
      "       ..\n",
      "4995    1\n",
      "4996    1\n",
      "4997    1\n",
      "4998    1\n",
      "4999    0\n",
      "Name: Gender, Length: 5000, dtype: int64\n"
     ]
    },
    {
     "name": "stderr",
     "output_type": "stream",
     "text": [
      "C:\\Users\\hetam\\AppData\\Local\\Temp\\ipykernel_11432\\799644029.py:1: FutureWarning: A value is trying to be set on a copy of a DataFrame or Series through chained assignment using an inplace method.\n",
      "The behavior will change in pandas 3.0. This inplace method will never work because the intermediate object on which we are setting values always behaves as a copy.\n",
      "\n",
      "For example, when doing 'df[col].method(value, inplace=True)', try using 'df.method({col: value}, inplace=True)' or df[col] = df[col].method(value) instead, to perform the operation inplace on the original object.\n",
      "\n",
      "\n",
      "  df['Gender'].replace(['Female','Male' ],[0,1],inplace=True)\n",
      "C:\\Users\\hetam\\AppData\\Local\\Temp\\ipykernel_11432\\799644029.py:1: FutureWarning: Downcasting behavior in `replace` is deprecated and will be removed in a future version. To retain the old behavior, explicitly call `result.infer_objects(copy=False)`. To opt-in to the future behavior, set `pd.set_option('future.no_silent_downcasting', True)`\n",
      "  df['Gender'].replace(['Female','Male' ],[0,1],inplace=True)\n"
     ]
    }
   ],
   "source": [
    "df['Gender'].replace(['Female','Male' ],[0,1],inplace=True)\n",
    "print(df['Gender'])"
   ]
  },
  {
   "cell_type": "code",
   "execution_count": 5,
   "metadata": {
    "execution": {
     "iopub.execute_input": "2024-09-18T05:43:07.881165Z",
     "iopub.status.busy": "2024-09-18T05:43:07.880836Z",
     "iopub.status.idle": "2024-09-18T05:43:07.904068Z",
     "shell.execute_reply": "2024-09-18T05:43:07.903193Z",
     "shell.execute_reply.started": "2024-09-18T05:43:07.881119Z"
    },
    "trusted": true
   },
   "outputs": [
    {
     "name": "stdout",
     "output_type": "stream",
     "text": [
      "<class 'pandas.core.frame.DataFrame'>\n",
      "RangeIndex: 5000 entries, 0 to 4999\n",
      "Data columns (total 8 columns):\n",
      " #   Column               Non-Null Count  Dtype  \n",
      "---  ------               --------------  -----  \n",
      " 0   Weight               5000 non-null   float64\n",
      " 1   Height               5000 non-null   float64\n",
      " 2   BMI                  5000 non-null   float64\n",
      " 3   Body Fat Percentage  5000 non-null   float64\n",
      " 4   BFPcase              5000 non-null   int64  \n",
      " 5   Gender               5000 non-null   int64  \n",
      " 6   Age                  5000 non-null   int64  \n",
      " 7   BMIcase              5000 non-null   int64  \n",
      "dtypes: float64(4), int64(4)\n",
      "memory usage: 312.6 KB\n"
     ]
    }
   ],
   "source": [
    "columns_to_drop = ['Exercise Recommendation Plan']\n",
    "df = df.drop(columns=[col for col in columns_to_drop if col in df.columns])\n",
    "\n",
    "\n",
    "df.info()"
   ]
  },
  {
   "cell_type": "code",
   "execution_count": 6,
   "metadata": {
    "execution": {
     "iopub.execute_input": "2024-09-18T05:43:07.905610Z",
     "iopub.status.busy": "2024-09-18T05:43:07.905257Z",
     "iopub.status.idle": "2024-09-18T05:43:07.910910Z",
     "shell.execute_reply": "2024-09-18T05:43:07.909904Z",
     "shell.execute_reply.started": "2024-09-18T05:43:07.905565Z"
    },
    "trusted": true
   },
   "outputs": [],
   "source": [
    "X = df.drop(['BMIcase'],axis=1)\n",
    "y = df.BMIcase"
   ]
  },
  {
   "cell_type": "code",
   "execution_count": 7,
   "metadata": {
    "execution": {
     "iopub.execute_input": "2024-09-18T05:43:07.912444Z",
     "iopub.status.busy": "2024-09-18T05:43:07.912141Z",
     "iopub.status.idle": "2024-09-18T05:43:07.927728Z",
     "shell.execute_reply": "2024-09-18T05:43:07.926756Z",
     "shell.execute_reply.started": "2024-09-18T05:43:07.912411Z"
    },
    "trusted": true
   },
   "outputs": [
    {
     "data": {
      "text/html": [
       "<div>\n",
       "<style scoped>\n",
       "    .dataframe tbody tr th:only-of-type {\n",
       "        vertical-align: middle;\n",
       "    }\n",
       "\n",
       "    .dataframe tbody tr th {\n",
       "        vertical-align: top;\n",
       "    }\n",
       "\n",
       "    .dataframe thead th {\n",
       "        text-align: right;\n",
       "    }\n",
       "</style>\n",
       "<table border=\"1\" class=\"dataframe\">\n",
       "  <thead>\n",
       "    <tr style=\"text-align: right;\">\n",
       "      <th></th>\n",
       "      <th>Weight</th>\n",
       "      <th>Height</th>\n",
       "      <th>BMI</th>\n",
       "      <th>Body Fat Percentage</th>\n",
       "      <th>BFPcase</th>\n",
       "      <th>Gender</th>\n",
       "      <th>Age</th>\n",
       "    </tr>\n",
       "  </thead>\n",
       "  <tbody>\n",
       "    <tr>\n",
       "      <th>0</th>\n",
       "      <td>76.811975</td>\n",
       "      <td>1.820521</td>\n",
       "      <td>23.175956</td>\n",
       "      <td>18.281148</td>\n",
       "      <td>1</td>\n",
       "      <td>1</td>\n",
       "      <td>29</td>\n",
       "    </tr>\n",
       "    <tr>\n",
       "      <th>1</th>\n",
       "      <td>77.721154</td>\n",
       "      <td>1.945498</td>\n",
       "      <td>20.534184</td>\n",
       "      <td>13.731021</td>\n",
       "      <td>2</td>\n",
       "      <td>1</td>\n",
       "      <td>23</td>\n",
       "    </tr>\n",
       "    <tr>\n",
       "      <th>2</th>\n",
       "      <td>87.558726</td>\n",
       "      <td>1.742754</td>\n",
       "      <td>28.828859</td>\n",
       "      <td>42.304631</td>\n",
       "      <td>0</td>\n",
       "      <td>0</td>\n",
       "      <td>57</td>\n",
       "    </tr>\n",
       "    <tr>\n",
       "      <th>3</th>\n",
       "      <td>89.473356</td>\n",
       "      <td>1.758318</td>\n",
       "      <td>28.940017</td>\n",
       "      <td>27.958021</td>\n",
       "      <td>0</td>\n",
       "      <td>1</td>\n",
       "      <td>41</td>\n",
       "    </tr>\n",
       "    <tr>\n",
       "      <th>4</th>\n",
       "      <td>69.963943</td>\n",
       "      <td>1.722570</td>\n",
       "      <td>23.578732</td>\n",
       "      <td>16.464478</td>\n",
       "      <td>2</td>\n",
       "      <td>1</td>\n",
       "      <td>19</td>\n",
       "    </tr>\n",
       "    <tr>\n",
       "      <th>5</th>\n",
       "      <td>62.913627</td>\n",
       "      <td>1.498504</td>\n",
       "      <td>28.017479</td>\n",
       "      <td>34.200974</td>\n",
       "      <td>0</td>\n",
       "      <td>0</td>\n",
       "      <td>26</td>\n",
       "    </tr>\n",
       "    <tr>\n",
       "      <th>6</th>\n",
       "      <td>53.598341</td>\n",
       "      <td>1.864738</td>\n",
       "      <td>15.414007</td>\n",
       "      <td>9.886809</td>\n",
       "      <td>3</td>\n",
       "      <td>1</td>\n",
       "      <td>33</td>\n",
       "    </tr>\n",
       "    <tr>\n",
       "      <th>7</th>\n",
       "      <td>105.078061</td>\n",
       "      <td>1.743099</td>\n",
       "      <td>34.583405</td>\n",
       "      <td>50.590086</td>\n",
       "      <td>0</td>\n",
       "      <td>0</td>\n",
       "      <td>63</td>\n",
       "    </tr>\n",
       "    <tr>\n",
       "      <th>8</th>\n",
       "      <td>87.698358</td>\n",
       "      <td>1.818983</td>\n",
       "      <td>26.505403</td>\n",
       "      <td>39.976483</td>\n",
       "      <td>0</td>\n",
       "      <td>0</td>\n",
       "      <td>59</td>\n",
       "    </tr>\n",
       "    <tr>\n",
       "      <th>9</th>\n",
       "      <td>74.798901</td>\n",
       "      <td>1.710349</td>\n",
       "      <td>25.569717</td>\n",
       "      <td>29.433660</td>\n",
       "      <td>0</td>\n",
       "      <td>1</td>\n",
       "      <td>65</td>\n",
       "    </tr>\n",
       "  </tbody>\n",
       "</table>\n",
       "</div>"
      ],
      "text/plain": [
       "       Weight    Height        BMI  Body Fat Percentage  BFPcase  Gender  Age\n",
       "0   76.811975  1.820521  23.175956            18.281148        1       1   29\n",
       "1   77.721154  1.945498  20.534184            13.731021        2       1   23\n",
       "2   87.558726  1.742754  28.828859            42.304631        0       0   57\n",
       "3   89.473356  1.758318  28.940017            27.958021        0       1   41\n",
       "4   69.963943  1.722570  23.578732            16.464478        2       1   19\n",
       "5   62.913627  1.498504  28.017479            34.200974        0       0   26\n",
       "6   53.598341  1.864738  15.414007             9.886809        3       1   33\n",
       "7  105.078061  1.743099  34.583405            50.590086        0       0   63\n",
       "8   87.698358  1.818983  26.505403            39.976483        0       0   59\n",
       "9   74.798901  1.710349  25.569717            29.433660        0       1   65"
      ]
     },
     "execution_count": 7,
     "metadata": {},
     "output_type": "execute_result"
    }
   ],
   "source": [
    "X.head(10)"
   ]
  },
  {
   "cell_type": "code",
   "execution_count": 8,
   "metadata": {
    "execution": {
     "iopub.execute_input": "2024-09-18T05:43:07.929591Z",
     "iopub.status.busy": "2024-09-18T05:43:07.928975Z",
     "iopub.status.idle": "2024-09-18T05:43:09.031121Z",
     "shell.execute_reply": "2024-09-18T05:43:09.030100Z",
     "shell.execute_reply.started": "2024-09-18T05:43:07.929550Z"
    },
    "trusted": true
   },
   "outputs": [],
   "source": [
    "from sklearn.model_selection import train_test_split\n",
    "X_train,X_test,y_train,y_test = train_test_split(X,y,test_size=0.3,random_state=0)"
   ]
  },
  {
   "cell_type": "code",
   "execution_count": 9,
   "metadata": {
    "execution": {
     "iopub.execute_input": "2024-09-18T05:43:09.032949Z",
     "iopub.status.busy": "2024-09-18T05:43:09.032359Z",
     "iopub.status.idle": "2024-09-18T05:43:09.044926Z",
     "shell.execute_reply": "2024-09-18T05:43:09.043716Z",
     "shell.execute_reply.started": "2024-09-18T05:43:09.032898Z"
    },
    "trusted": true
   },
   "outputs": [
    {
     "name": "stdout",
     "output_type": "stream",
     "text": [
      "<class 'pandas.core.frame.DataFrame'>\n",
      "RangeIndex: 5000 entries, 0 to 4999\n",
      "Data columns (total 8 columns):\n",
      " #   Column               Non-Null Count  Dtype  \n",
      "---  ------               --------------  -----  \n",
      " 0   Weight               5000 non-null   float64\n",
      " 1   Height               5000 non-null   float64\n",
      " 2   BMI                  5000 non-null   float64\n",
      " 3   Body Fat Percentage  5000 non-null   float64\n",
      " 4   BFPcase              5000 non-null   int64  \n",
      " 5   Gender               5000 non-null   int64  \n",
      " 6   Age                  5000 non-null   int64  \n",
      " 7   BMIcase              5000 non-null   int64  \n",
      "dtypes: float64(4), int64(4)\n",
      "memory usage: 312.6 KB\n"
     ]
    }
   ],
   "source": [
    "df.info()"
   ]
  },
  {
   "cell_type": "code",
   "execution_count": 10,
   "metadata": {
    "execution": {
     "iopub.execute_input": "2024-09-18T05:43:09.047754Z",
     "iopub.status.busy": "2024-09-18T05:43:09.046898Z",
     "iopub.status.idle": "2024-09-18T05:43:20.877491Z",
     "shell.execute_reply": "2024-09-18T05:43:20.876663Z",
     "shell.execute_reply.started": "2024-09-18T05:43:09.047703Z"
    },
    "trusted": true
   },
   "outputs": [],
   "source": [
    "from sklearn.preprocessing import StandardScaler\n",
    "from sklearn.metrics import confusion_matrix, ConfusionMatrixDisplay\n",
    "import numpy as np\n",
    "from tensorflow.keras.utils import to_categorical\n",
    "from tensorflow.keras.models import Sequential\n",
    "from tensorflow.keras.layers import Dense, SimpleRNN\n",
    "from tensorflow.keras.optimizers import Adam\n",
    "import matplotlib.pyplot as plt"
   ]
  },
  {
   "cell_type": "code",
   "execution_count": 11,
   "metadata": {
    "execution": {
     "iopub.execute_input": "2024-09-18T05:43:20.879147Z",
     "iopub.status.busy": "2024-09-18T05:43:20.878608Z",
     "iopub.status.idle": "2024-09-18T05:48:47.730588Z",
     "shell.execute_reply": "2024-09-18T05:48:47.729653Z",
     "shell.execute_reply.started": "2024-09-18T05:43:20.879111Z"
    },
    "trusted": true
   },
   "outputs": [
    {
     "name": "stdout",
     "output_type": "stream",
     "text": [
      "Epoch 1/30\n"
     ]
    },
    {
     "name": "stderr",
     "output_type": "stream",
     "text": [
      "c:\\Users\\hetam\\AppData\\Local\\Programs\\Python\\Python312\\Lib\\site-packages\\keras\\src\\layers\\rnn\\rnn.py:200: UserWarning: Do not pass an `input_shape`/`input_dim` argument to a layer. When using Sequential models, prefer using an `Input(shape)` object as the first layer in the model instead.\n",
      "  super().__init__(**kwargs)\n"
     ]
    },
    {
     "name": "stdout",
     "output_type": "stream",
     "text": [
      "\u001b[1m3500/3500\u001b[0m \u001b[32m━━━━━━━━━━━━━━━━━━━━\u001b[0m\u001b[37m\u001b[0m \u001b[1m5s\u001b[0m 1ms/step - accuracy: 0.5836 - loss: 1.0478\n",
      "Epoch 2/30\n",
      "\u001b[1m3500/3500\u001b[0m \u001b[32m━━━━━━━━━━━━━━━━━━━━\u001b[0m\u001b[37m\u001b[0m \u001b[1m4s\u001b[0m 1ms/step - accuracy: 0.7766 - loss: 0.4957\n",
      "Epoch 3/30\n",
      "\u001b[1m3500/3500\u001b[0m \u001b[32m━━━━━━━━━━━━━━━━━━━━\u001b[0m\u001b[37m\u001b[0m \u001b[1m4s\u001b[0m 1ms/step - accuracy: 0.8035 - loss: 0.4309\n",
      "Epoch 4/30\n",
      "\u001b[1m3500/3500\u001b[0m \u001b[32m━━━━━━━━━━━━━━━━━━━━\u001b[0m\u001b[37m\u001b[0m \u001b[1m4s\u001b[0m 1ms/step - accuracy: 0.8187 - loss: 0.4025\n",
      "Epoch 5/30\n",
      "\u001b[1m3500/3500\u001b[0m \u001b[32m━━━━━━━━━━━━━━━━━━━━\u001b[0m\u001b[37m\u001b[0m \u001b[1m4s\u001b[0m 1ms/step - accuracy: 0.8133 - loss: 0.4041\n",
      "Epoch 6/30\n",
      "\u001b[1m3500/3500\u001b[0m \u001b[32m━━━━━━━━━━━━━━━━━━━━\u001b[0m\u001b[37m\u001b[0m \u001b[1m4s\u001b[0m 1ms/step - accuracy: 0.8148 - loss: 0.3928\n",
      "Epoch 7/30\n",
      "\u001b[1m3500/3500\u001b[0m \u001b[32m━━━━━━━━━━━━━━━━━━━━\u001b[0m\u001b[37m\u001b[0m \u001b[1m4s\u001b[0m 1ms/step - accuracy: 0.8362 - loss: 0.3655\n",
      "Epoch 8/30\n",
      "\u001b[1m3500/3500\u001b[0m \u001b[32m━━━━━━━━━━━━━━━━━━━━\u001b[0m\u001b[37m\u001b[0m \u001b[1m4s\u001b[0m 1ms/step - accuracy: 0.8173 - loss: 0.3800\n",
      "Epoch 9/30\n",
      "\u001b[1m3500/3500\u001b[0m \u001b[32m━━━━━━━━━━━━━━━━━━━━\u001b[0m\u001b[37m\u001b[0m \u001b[1m4s\u001b[0m 1ms/step - accuracy: 0.8205 - loss: 0.3699\n",
      "Epoch 10/30\n",
      "\u001b[1m3500/3500\u001b[0m \u001b[32m━━━━━━━━━━━━━━━━━━━━\u001b[0m\u001b[37m\u001b[0m \u001b[1m4s\u001b[0m 1ms/step - accuracy: 0.8216 - loss: 0.3740\n",
      "Epoch 11/30\n",
      "\u001b[1m3500/3500\u001b[0m \u001b[32m━━━━━━━━━━━━━━━━━━━━\u001b[0m\u001b[37m\u001b[0m \u001b[1m4s\u001b[0m 1ms/step - accuracy: 0.8373 - loss: 0.3455\n",
      "Epoch 12/30\n",
      "\u001b[1m3500/3500\u001b[0m \u001b[32m━━━━━━━━━━━━━━━━━━━━\u001b[0m\u001b[37m\u001b[0m \u001b[1m4s\u001b[0m 1ms/step - accuracy: 0.8218 - loss: 0.3680\n",
      "Epoch 13/30\n",
      "\u001b[1m3500/3500\u001b[0m \u001b[32m━━━━━━━━━━━━━━━━━━━━\u001b[0m\u001b[37m\u001b[0m \u001b[1m4s\u001b[0m 1ms/step - accuracy: 0.8274 - loss: 0.3521\n",
      "Epoch 14/30\n",
      "\u001b[1m3500/3500\u001b[0m \u001b[32m━━━━━━━━━━━━━━━━━━━━\u001b[0m\u001b[37m\u001b[0m \u001b[1m4s\u001b[0m 1ms/step - accuracy: 0.8391 - loss: 0.3306\n",
      "Epoch 15/30\n",
      "\u001b[1m3500/3500\u001b[0m \u001b[32m━━━━━━━━━━━━━━━━━━━━\u001b[0m\u001b[37m\u001b[0m \u001b[1m4s\u001b[0m 1ms/step - accuracy: 0.8344 - loss: 0.3540\n",
      "Epoch 16/30\n",
      "\u001b[1m3500/3500\u001b[0m \u001b[32m━━━━━━━━━━━━━━━━━━━━\u001b[0m\u001b[37m\u001b[0m \u001b[1m4s\u001b[0m 1ms/step - accuracy: 0.8342 - loss: 0.3280\n",
      "Epoch 17/30\n",
      "\u001b[1m3500/3500\u001b[0m \u001b[32m━━━━━━━━━━━━━━━━━━━━\u001b[0m\u001b[37m\u001b[0m \u001b[1m4s\u001b[0m 1ms/step - accuracy: 0.8376 - loss: 0.3362\n",
      "Epoch 18/30\n",
      "\u001b[1m3500/3500\u001b[0m \u001b[32m━━━━━━━━━━━━━━━━━━━━\u001b[0m\u001b[37m\u001b[0m \u001b[1m4s\u001b[0m 1ms/step - accuracy: 0.8342 - loss: 0.3448\n",
      "Epoch 19/30\n",
      "\u001b[1m3500/3500\u001b[0m \u001b[32m━━━━━━━━━━━━━━━━━━━━\u001b[0m\u001b[37m\u001b[0m \u001b[1m4s\u001b[0m 1ms/step - accuracy: 0.8540 - loss: 0.3155\n",
      "Epoch 20/30\n",
      "\u001b[1m3500/3500\u001b[0m \u001b[32m━━━━━━━━━━━━━━━━━━━━\u001b[0m\u001b[37m\u001b[0m \u001b[1m4s\u001b[0m 1ms/step - accuracy: 0.8417 - loss: 0.3331\n",
      "Epoch 21/30\n",
      "\u001b[1m3500/3500\u001b[0m \u001b[32m━━━━━━━━━━━━━━━━━━━━\u001b[0m\u001b[37m\u001b[0m \u001b[1m4s\u001b[0m 1ms/step - accuracy: 0.8378 - loss: 0.3511\n",
      "Epoch 22/30\n",
      "\u001b[1m3500/3500\u001b[0m \u001b[32m━━━━━━━━━━━━━━━━━━━━\u001b[0m\u001b[37m\u001b[0m \u001b[1m4s\u001b[0m 1ms/step - accuracy: 0.8333 - loss: 0.3365\n",
      "Epoch 23/30\n",
      "\u001b[1m3500/3500\u001b[0m \u001b[32m━━━━━━━━━━━━━━━━━━━━\u001b[0m\u001b[37m\u001b[0m \u001b[1m4s\u001b[0m 1ms/step - accuracy: 0.8366 - loss: 0.3479\n",
      "Epoch 24/30\n",
      "\u001b[1m3500/3500\u001b[0m \u001b[32m━━━━━━━━━━━━━━━━━━━━\u001b[0m\u001b[37m\u001b[0m \u001b[1m4s\u001b[0m 1ms/step - accuracy: 0.8455 - loss: 0.3208\n",
      "Epoch 25/30\n",
      "\u001b[1m3500/3500\u001b[0m \u001b[32m━━━━━━━━━━━━━━━━━━━━\u001b[0m\u001b[37m\u001b[0m \u001b[1m4s\u001b[0m 1ms/step - accuracy: 0.8409 - loss: 0.3396\n",
      "Epoch 26/30\n",
      "\u001b[1m3500/3500\u001b[0m \u001b[32m━━━━━━━━━━━━━━━━━━━━\u001b[0m\u001b[37m\u001b[0m \u001b[1m4s\u001b[0m 1ms/step - accuracy: 0.8399 - loss: 0.3416\n",
      "Epoch 27/30\n",
      "\u001b[1m3500/3500\u001b[0m \u001b[32m━━━━━━━━━━━━━━━━━━━━\u001b[0m\u001b[37m\u001b[0m \u001b[1m4s\u001b[0m 1ms/step - accuracy: 0.8448 - loss: 0.3269\n",
      "Epoch 28/30\n",
      "\u001b[1m3500/3500\u001b[0m \u001b[32m━━━━━━━━━━━━━━━━━━━━\u001b[0m\u001b[37m\u001b[0m \u001b[1m4s\u001b[0m 1ms/step - accuracy: 0.8441 - loss: 0.3312\n",
      "Epoch 29/30\n",
      "\u001b[1m3500/3500\u001b[0m \u001b[32m━━━━━━━━━━━━━━━━━━━━\u001b[0m\u001b[37m\u001b[0m \u001b[1m4s\u001b[0m 1ms/step - accuracy: 0.8405 - loss: 0.3266\n",
      "Epoch 30/30\n",
      "\u001b[1m3500/3500\u001b[0m \u001b[32m━━━━━━━━━━━━━━━━━━━━\u001b[0m\u001b[37m\u001b[0m \u001b[1m4s\u001b[0m 1ms/step - accuracy: 0.8344 - loss: 0.3404\n",
      "\u001b[1m350/350\u001b[0m \u001b[32m━━━━━━━━━━━━━━━━━━━━\u001b[0m\u001b[37m\u001b[0m \u001b[1m0s\u001b[0m 860us/step - accuracy: 0.8322 - loss: 0.3440\n",
      "\u001b[1m150/150\u001b[0m \u001b[32m━━━━━━━━━━━━━━━━━━━━\u001b[0m\u001b[37m\u001b[0m \u001b[1m0s\u001b[0m 956us/step - accuracy: 0.8224 - loss: 0.3673\n",
      "Train score: 0.34729593992233276\n",
      "Train accuracy: 0.8308571577072144\n",
      "Test loss: 0.36729106307029724\n",
      "Test accuracy: 0.8206666707992554\n",
      "\u001b[1m47/47\u001b[0m \u001b[32m━━━━━━━━━━━━━━━━━━━━\u001b[0m\u001b[37m\u001b[0m \u001b[1m0s\u001b[0m 3ms/step\n"
     ]
    },
    {
     "data": {
      "image/png": "[encoded data removed]",
      "text/plain": [
       "<Figure size 640x480 with 2 Axes>"
      ]
     },
     "metadata": {},
     "output_type": "display_data"
    }
   ],
   "source": [
    "# Scaling features\n",
    "scaler = StandardScaler()\n",
    "X_train_scaled = scaler.fit_transform(X_train)\n",
    "X_test_scaled = scaler.transform(X_test)\n",
    "\n",
    "# Reshaping data for RNN (RNN expects 3D input: samples, time steps, features)\n",
    "X_train_scaled = np.expand_dims(X_train_scaled, axis=2)\n",
    "X_test_scaled = np.expand_dims(X_test_scaled, axis=2)\n",
    "\n",
    "# Encoding the target variable\n",
    "y_train_encoded = to_categorical(y_train, num_classes=7)\n",
    "y_test_encoded = to_categorical(y_test, num_classes=7)\n",
    "\n",
    "# Building the RNN\n",
    "classifier = Sequential()\n",
    "\n",
    "# Adding the RNN layer\n",
    "classifier.add(SimpleRNN(units=50, activation='relu', input_shape=(X_train_scaled.shape[1], 1)))\n",
    "\n",
    "# Dense layer for classification\n",
    "classifier.add(Dense(units=7, activation='softmax'))  # 7 units for 7 BMI classes\n",
    "\n",
    "# Compile the model\n",
    "opt = Adam(learning_rate=0.001)\n",
    "classifier.compile(optimizer=opt, loss='categorical_crossentropy', metrics=['accuracy'])\n",
    "\n",
    "# Train the model\n",
    "classifier.fit(X_train_scaled, y_train_encoded, batch_size=1, epochs=30,verbose=1)\n",
    "\n",
    "# Evaluate the model on the training and test sets\n",
    "train_score, train_acc = classifier.evaluate(X_train_scaled, y_train_encoded, batch_size=10)\n",
    "test_loss, test_acc = classifier.evaluate(X_test_scaled, y_test_encoded, batch_size=10)\n",
    "\n",
    "print('Train score:', train_score)\n",
    "print('Train accuracy:', train_acc)\n",
    "print('Test loss:', test_loss)\n",
    "print('Test accuracy:', test_acc)\n",
    "\n",
    "# Predictions and Confusion Matrix\n",
    "y_pred_proba = classifier.predict(X_test_scaled)\n",
    "y_pred = np.argmax(y_pred_proba, axis=1)\n",
    "y_test_labels = np.argmax(y_test_encoded, axis=1)\n",
    "\n",
    "cm = confusion_matrix(y_test_labels, y_pred)\n",
    "\n",
    "# Plot confusion matrix\n",
    "disp = ConfusionMatrixDisplay(confusion_matrix=cm, display_labels=['s-thin','m-thin','mo-thin','nor','ow','obe','s-obe'])\n",
    "disp.plot(cmap=plt.cm.Blues)\n",
    "plt.title('Confusion Matrix - RNN')\n",
    "plt.show()\n"
   ]
  },
  {
   "cell_type": "code",
   "execution_count": 12,
   "metadata": {
    "execution": {
     "iopub.execute_input": "2024-09-18T05:48:47.732331Z",
     "iopub.status.busy": "2024-09-18T05:48:47.731923Z",
     "iopub.status.idle": "2024-09-18T05:48:47.752368Z",
     "shell.execute_reply": "2024-09-18T05:48:47.751527Z",
     "shell.execute_reply.started": "2024-09-18T05:48:47.732287Z"
    },
    "trusted": true
   },
   "outputs": [
    {
     "data": {
      "text/html": [
       "<pre style=\"white-space:pre;overflow-x:auto;line-height:normal;font-family:Menlo,'DejaVu Sans Mono',consolas,'Courier New',monospace\"><span style=\"font-weight: bold\">Model: \"sequential\"</span>\n",
       "</pre>\n"
      ],
      "text/plain": [
       "\u001b[1mModel: \"sequential\"\u001b[0m\n"
      ]
     },
     "metadata": {},
     "output_type": "display_data"
    },
    {
     "data": {
      "text/html": [
       "<pre style=\"white-space:pre;overflow-x:auto;line-height:normal;font-family:Menlo,'DejaVu Sans Mono',consolas,'Courier New',monospace\">┏━━━━━━━━━━━━━━━━━━━━━━━━━━━━━━━━━┳━━━━━━━━━━━━━━━━━━━━━━━━┳━━━━━━━━━━━━━━━┓\n",
       "┃<span style=\"font-weight: bold\"> Layer (type)                    </span>┃<span style=\"font-weight: bold\"> Output Shape           </span>┃<span style=\"font-weight: bold\">       Param # </span>┃\n",
       "┡━━━━━━━━━━━━━━━━━━━━━━━━━━━━━━━━━╇━━━━━━━━━━━━━━━━━━━━━━━━╇━━━━━━━━━━━━━━━┩\n",
       "│ simple_rnn (<span style=\"color: #0087ff; text-decoration-color: #0087ff\">SimpleRNN</span>)          │ (<span style=\"color: #00d7ff; text-decoration-color: #00d7ff\">None</span>, <span style=\"color: #00af00; text-decoration-color: #00af00\">50</span>)             │         <span style=\"color: #00af00; text-decoration-color: #00af00\">2,600</span> │\n",
       "├─────────────────────────────────┼────────────────────────┼───────────────┤\n",
       "│ dense (<span style=\"color: #0087ff; text-decoration-color: #0087ff\">Dense</span>)                   │ (<span style=\"color: #00d7ff; text-decoration-color: #00d7ff\">None</span>, <span style=\"color: #00af00; text-decoration-color: #00af00\">7</span>)              │           <span style=\"color: #00af00; text-decoration-color: #00af00\">357</span> │\n",
       "└─────────────────────────────────┴────────────────────────┴───────────────┘\n",
       "</pre>\n"
      ],
      "text/plain": [
       "┏━━━━━━━━━━━━━━━━━━━━━━━━━━━━━━━━━┳━━━━━━━━━━━━━━━━━━━━━━━━┳━━━━━━━━━━━━━━━┓\n",
       "┃\u001b[1m \u001b[0m\u001b[1mLayer (type)                   \u001b[0m\u001b[1m \u001b[0m┃\u001b[1m \u001b[0m\u001b[1mOutput Shape          \u001b[0m\u001b[1m \u001b[0m┃\u001b[1m \u001b[0m\u001b[1m      Param #\u001b[0m\u001b[1m \u001b[0m┃\n",
       "┡━━━━━━━━━━━━━━━━━━━━━━━━━━━━━━━━━╇━━━━━━━━━━━━━━━━━━━━━━━━╇━━━━━━━━━━━━━━━┩\n",
       "│ simple_rnn (\u001b[38;5;33mSimpleRNN\u001b[0m)          │ (\u001b[38;5;45mNone\u001b[0m, \u001b[38;5;34m50\u001b[0m)             │         \u001b[38;5;34m2,600\u001b[0m │\n",
       "├─────────────────────────────────┼────────────────────────┼───────────────┤\n",
       "│ dense (\u001b[38;5;33mDense\u001b[0m)                   │ (\u001b[38;5;45mNone\u001b[0m, \u001b[38;5;34m7\u001b[0m)              │           \u001b[38;5;34m357\u001b[0m │\n",
       "└─────────────────────────────────┴────────────────────────┴───────────────┘\n"
      ]
     },
     "metadata": {},
     "output_type": "display_data"
    },
    {
     "data": {
      "text/html": [
       "<pre style=\"white-space:pre;overflow-x:auto;line-height:normal;font-family:Menlo,'DejaVu Sans Mono',consolas,'Courier New',monospace\"><span style=\"font-weight: bold\"> Total params: </span><span style=\"color: #00af00; text-decoration-color: #00af00\">8,873</span> (34.66 KB)\n",
       "</pre>\n"
      ],
      "text/plain": [
       "\u001b[1m Total params: \u001b[0m\u001b[38;5;34m8,873\u001b[0m (34.66 KB)\n"
      ]
     },
     "metadata": {},
     "output_type": "display_data"
    },
    {
     "data": {
      "text/html": [
       "<pre style=\"white-space:pre;overflow-x:auto;line-height:normal;font-family:Menlo,'DejaVu Sans Mono',consolas,'Courier New',monospace\"><span style=\"font-weight: bold\"> Trainable params: </span><span style=\"color: #00af00; text-decoration-color: #00af00\">2,957</span> (11.55 KB)\n",
       "</pre>\n"
      ],
      "text/plain": [
       "\u001b[1m Trainable params: \u001b[0m\u001b[38;5;34m2,957\u001b[0m (11.55 KB)\n"
      ]
     },
     "metadata": {},
     "output_type": "display_data"
    },
    {
     "data": {
      "text/html": [
       "<pre style=\"white-space:pre;overflow-x:auto;line-height:normal;font-family:Menlo,'DejaVu Sans Mono',consolas,'Courier New',monospace\"><span style=\"font-weight: bold\"> Non-trainable params: </span><span style=\"color: #00af00; text-decoration-color: #00af00\">0</span> (0.00 B)\n",
       "</pre>\n"
      ],
      "text/plain": [
       "\u001b[1m Non-trainable params: \u001b[0m\u001b[38;5;34m0\u001b[0m (0.00 B)\n"
      ]
     },
     "metadata": {},
     "output_type": "display_data"
    },
    {
     "data": {
      "text/html": [
       "<pre style=\"white-space:pre;overflow-x:auto;line-height:normal;font-family:Menlo,'DejaVu Sans Mono',consolas,'Courier New',monospace\"><span style=\"font-weight: bold\"> Optimizer params: </span><span style=\"color: #00af00; text-decoration-color: #00af00\">5,916</span> (23.11 KB)\n",
       "</pre>\n"
      ],
      "text/plain": [
       "\u001b[1m Optimizer params: \u001b[0m\u001b[38;5;34m5,916\u001b[0m (23.11 KB)\n"
      ]
     },
     "metadata": {},
     "output_type": "display_data"
    }
   ],
   "source": [
    "classifier.summary()"
   ]
  },
  {
   "cell_type": "code",
   "execution_count": 13,
   "metadata": {},
   "outputs": [
    {
     "name": "stdout",
     "output_type": "stream",
     "text": [
      "\u001b[1m1/1\u001b[0m \u001b[32m━━━━━━━━━━━━━━━━━━━━\u001b[0m\u001b[37m\u001b[0m \u001b[1m0s\u001b[0m 30ms/step\n",
      "✅ The predicted BMI case for the input is: mild thinness\n"
     ]
    },
    {
     "name": "stderr",
     "output_type": "stream",
     "text": [
      "c:\\Users\\hetam\\AppData\\Local\\Programs\\Python\\Python312\\Lib\\site-packages\\sklearn\\base.py:493: UserWarning: X does not have valid feature names, but StandardScaler was fitted with feature names\n",
      "  warnings.warn(\n"
     ]
    }
   ],
   "source": [
    "import numpy as np\n",
    "from sklearn.preprocessing import StandardScaler\n",
    "from tensorflow.keras.utils import to_categorical\n",
    "\n",
    "# BMI categories\n",
    "bmi_categories = ['severe thinness', 'mild thinness', 'moderate thinness', 'normal', 'over weight', 'obese', 'severe obese']\n",
    "\n",
    "# Function to categorize BFP (Body Fat Percentage)\n",
    "def categorize_bfp(bfp):\n",
    "    if bfp in range(0, 4):  # < 4%\n",
    "        return 0  # Severe Thinness\n",
    "    elif bfp in range(4, 7):  # 4–6.9%\n",
    "        return 1  # Moderate Thinness\n",
    "    elif bfp in range(7, 10):  # 7–9.9%\n",
    "        return 2  # Mild Thinness\n",
    "    elif bfp in range(10, 20):  # 10–19.9%\n",
    "        return 3  # Normal\n",
    "    elif bfp in range(20, 25):  # 20–24.9%\n",
    "        return 4  # Overweight\n",
    "    elif bfp in range(25, 31):  # 25–30%\n",
    "        return 5  # Obese\n",
    "    elif bfp > 30:\n",
    "        return 6  # Severe Obese\n",
    "    else:\n",
    "        return -1  # Invalid data\n",
    "\n",
    "# Function to get user input safely\n",
    "def get_user_input():\n",
    "    weight = float(input(\"Enter Weight (kg): \"))\n",
    "    height = float(input(\"Enter Height (m): \"))\n",
    "    bmi = float(weight / height**2)\n",
    "\n",
    "    # Ensure valid BFP input\n",
    "    while True:\n",
    "        bfp = float(input(\"Enter Body Fat Percentage (BFP): \"))\n",
    "        bfpcase = categorize_bfp(bfp)\n",
    "        if bfpcase == -1:\n",
    "            print(\"❌ Invalid BFP value. Please enter a valid BFP.\")\n",
    "        else:\n",
    "            break\n",
    "\n",
    "    gender = int(input(\"Enter Gender (0 for Female, 1 for Male): \"))\n",
    "    age = float(input(\"Enter Age: \"))\n",
    "\n",
    "\n",
    "    # Create a numpy array for the input with 8 features\n",
    "    user_input = np.array([[weight, height, bmi, bfp, bfpcase, gender, age]])\n",
    "\n",
    "    return user_input\n",
    "\n",
    "# Preprocessing function (scaling and reshaping for RNN)\n",
    "def preprocess_input(user_input, scaler):\n",
    "    scaled_input = scaler.transform(user_input)  # Scale input\n",
    "    scaled_input = np.expand_dims(scaled_input, axis=2)  # Reshape for RNN (samples, features, 1)\n",
    "    return scaled_input\n",
    "\n",
    "# Prediction function using trained classifier\n",
    "def predict_bmi_case(scaled_input, classifier):\n",
    "    pred_proba = classifier.predict(scaled_input)  # Predict probabilities\n",
    "    pred_class = np.argmax(pred_proba, axis=1)  # Class with highest probability\n",
    "    predicted_bmi_case = bmi_categories[pred_class[0]]  # Convert to label\n",
    "    return predicted_bmi_case\n",
    "\n",
    "# Main function to handle input and prediction\n",
    "def predict_user_bmi_case(classifier, scaler):\n",
    "    user_input = get_user_input()  # Step 1: Get user input\n",
    "    scaled_input = preprocess_input(user_input, scaler)  # Step 2: Preprocess\n",
    "    predicted_bmi_case = predict_bmi_case(scaled_input, classifier)  # Step 3: Predict\n",
    "    print(f\"✅ The predicted BMI case for the input is: {predicted_bmi_case}\")  # Step 4: Output\n",
    "\n",
    "# Example usage (ensure 'classifier' and 'scaler' are loaded beforehand)\n",
    "predict_user_bmi_case(classifier, scaler)"
   ]
  },
  {
   "cell_type": "code",
   "execution_count": 14,
   "metadata": {},
   "outputs": [
    {
     "data": {
      "text/html": [
       "<div>\n",
       "<style scoped>\n",
       "    .dataframe tbody tr th:only-of-type {\n",
       "        vertical-align: middle;\n",
       "    }\n",
       "\n",
       "    .dataframe tbody tr th {\n",
       "        vertical-align: top;\n",
       "    }\n",
       "\n",
       "    .dataframe thead th {\n",
       "        text-align: right;\n",
       "    }\n",
       "</style>\n",
       "<table border=\"1\" class=\"dataframe\">\n",
       "  <thead>\n",
       "    <tr style=\"text-align: right;\">\n",
       "      <th></th>\n",
       "      <th>Weight</th>\n",
       "      <th>Height</th>\n",
       "      <th>BMI</th>\n",
       "      <th>Body Fat Percentage</th>\n",
       "      <th>BFPcase</th>\n",
       "      <th>Gender</th>\n",
       "      <th>Age</th>\n",
       "      <th>BMIcase</th>\n",
       "    </tr>\n",
       "  </thead>\n",
       "  <tbody>\n",
       "    <tr>\n",
       "      <th>0</th>\n",
       "      <td>76.811975</td>\n",
       "      <td>1.820521</td>\n",
       "      <td>23.175956</td>\n",
       "      <td>18.281148</td>\n",
       "      <td>1</td>\n",
       "      <td>1</td>\n",
       "      <td>29</td>\n",
       "      <td>3</td>\n",
       "    </tr>\n",
       "    <tr>\n",
       "      <th>1</th>\n",
       "      <td>77.721154</td>\n",
       "      <td>1.945498</td>\n",
       "      <td>20.534184</td>\n",
       "      <td>13.731021</td>\n",
       "      <td>2</td>\n",
       "      <td>1</td>\n",
       "      <td>23</td>\n",
       "      <td>3</td>\n",
       "    </tr>\n",
       "    <tr>\n",
       "      <th>2</th>\n",
       "      <td>87.558726</td>\n",
       "      <td>1.742754</td>\n",
       "      <td>28.828859</td>\n",
       "      <td>42.304631</td>\n",
       "      <td>0</td>\n",
       "      <td>0</td>\n",
       "      <td>57</td>\n",
       "      <td>4</td>\n",
       "    </tr>\n",
       "    <tr>\n",
       "      <th>3</th>\n",
       "      <td>89.473356</td>\n",
       "      <td>1.758318</td>\n",
       "      <td>28.940017</td>\n",
       "      <td>27.958021</td>\n",
       "      <td>0</td>\n",
       "      <td>1</td>\n",
       "      <td>41</td>\n",
       "      <td>4</td>\n",
       "    </tr>\n",
       "    <tr>\n",
       "      <th>4</th>\n",
       "      <td>69.963943</td>\n",
       "      <td>1.722570</td>\n",
       "      <td>23.578732</td>\n",
       "      <td>16.464478</td>\n",
       "      <td>2</td>\n",
       "      <td>1</td>\n",
       "      <td>19</td>\n",
       "      <td>3</td>\n",
       "    </tr>\n",
       "    <tr>\n",
       "      <th>...</th>\n",
       "      <td>...</td>\n",
       "      <td>...</td>\n",
       "      <td>...</td>\n",
       "      <td>...</td>\n",
       "      <td>...</td>\n",
       "      <td>...</td>\n",
       "      <td>...</td>\n",
       "      <td>...</td>\n",
       "    </tr>\n",
       "    <tr>\n",
       "      <th>4995</th>\n",
       "      <td>87.003054</td>\n",
       "      <td>1.902891</td>\n",
       "      <td>24.027404</td>\n",
       "      <td>16.772884</td>\n",
       "      <td>2</td>\n",
       "      <td>1</td>\n",
       "      <td>18</td>\n",
       "      <td>3</td>\n",
       "    </tr>\n",
       "    <tr>\n",
       "      <th>4996</th>\n",
       "      <td>92.121555</td>\n",
       "      <td>1.779346</td>\n",
       "      <td>29.096464</td>\n",
       "      <td>30.215757</td>\n",
       "      <td>0</td>\n",
       "      <td>1</td>\n",
       "      <td>50</td>\n",
       "      <td>4</td>\n",
       "    </tr>\n",
       "    <tr>\n",
       "      <th>4997</th>\n",
       "      <td>105.298845</td>\n",
       "      <td>1.972883</td>\n",
       "      <td>27.053345</td>\n",
       "      <td>31.214014</td>\n",
       "      <td>0</td>\n",
       "      <td>1</td>\n",
       "      <td>65</td>\n",
       "      <td>4</td>\n",
       "    </tr>\n",
       "    <tr>\n",
       "      <th>4998</th>\n",
       "      <td>90.411999</td>\n",
       "      <td>1.803409</td>\n",
       "      <td>27.799528</td>\n",
       "      <td>29.579434</td>\n",
       "      <td>0</td>\n",
       "      <td>1</td>\n",
       "      <td>54</td>\n",
       "      <td>4</td>\n",
       "    </tr>\n",
       "    <tr>\n",
       "      <th>4999</th>\n",
       "      <td>54.641104</td>\n",
       "      <td>1.402966</td>\n",
       "      <td>27.760382</td>\n",
       "      <td>42.862459</td>\n",
       "      <td>0</td>\n",
       "      <td>0</td>\n",
       "      <td>65</td>\n",
       "      <td>4</td>\n",
       "    </tr>\n",
       "  </tbody>\n",
       "</table>\n",
       "<p>5000 rows × 8 columns</p>\n",
       "</div>"
      ],
      "text/plain": [
       "          Weight    Height        BMI  Body Fat Percentage  BFPcase  Gender  \\\n",
       "0      76.811975  1.820521  23.175956            18.281148        1       1   \n",
       "1      77.721154  1.945498  20.534184            13.731021        2       1   \n",
       "2      87.558726  1.742754  28.828859            42.304631        0       0   \n",
       "3      89.473356  1.758318  28.940017            27.958021        0       1   \n",
       "4      69.963943  1.722570  23.578732            16.464478        2       1   \n",
       "...          ...       ...        ...                  ...      ...     ...   \n",
       "4995   87.003054  1.902891  24.027404            16.772884        2       1   \n",
       "4996   92.121555  1.779346  29.096464            30.215757        0       1   \n",
       "4997  105.298845  1.972883  27.053345            31.214014        0       1   \n",
       "4998   90.411999  1.803409  27.799528            29.579434        0       1   \n",
       "4999   54.641104  1.402966  27.760382            42.862459        0       0   \n",
       "\n",
       "      Age  BMIcase  \n",
       "0      29        3  \n",
       "1      23        3  \n",
       "2      57        4  \n",
       "3      41        4  \n",
       "4      19        3  \n",
       "...   ...      ...  \n",
       "4995   18        3  \n",
       "4996   50        4  \n",
       "4997   65        4  \n",
       "4998   54        4  \n",
       "4999   65        4  \n",
       "\n",
       "[5000 rows x 8 columns]"
      ]
     },
     "execution_count": 14,
     "metadata": {},
     "output_type": "execute_result"
    }
   ],
   "source": [
    "df"
   ]
  },
  {
   "cell_type": "code",
   "execution_count": null,
   "metadata": {},
   "outputs": [],
   "source": []
  }
 ],
 "metadata": {
  "kaggle": {
   "accelerator": "nvidiaTeslaT4",
   "dataSources": [
    {
     "datasetId": 5719937,
     "sourceId": 9417974,
     "sourceType": "datasetVersion"
    }
   ],
   "dockerImageVersionId": 30762,
   "isGpuEnabled": true,
   "isInternetEnabled": true,
   "language": "python",
   "sourceType": "notebook"
  },
  "kernelspec": {
   "display_name": "Python 3",
   "language": "python",
   "name": "python3"
  },
  "language_info": {
   "codemirror_mode": {
    "name": "ipython",
    "version": 3
   },
   "file_extension": ".py",
   "mimetype": "text/x-python",
   "name": "python",
   "nbconvert_exporter": "python",
   "pygments_lexer": "ipython3",
   "version": "3.12.4"
  }
 },
 "nbformat": 4,
 "nbformat_minor": 4
}
